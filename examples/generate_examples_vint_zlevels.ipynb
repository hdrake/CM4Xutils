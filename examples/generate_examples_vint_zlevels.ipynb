{
 "cells": [
  {
   "cell_type": "code",
   "execution_count": 1,
   "id": "285e303f-32a1-4652-a1c6-959c5ff7b932",
   "metadata": {},
   "outputs": [],
   "source": [
    "%load_ext autoreload\n",
    "%autoreload 2"
   ]
  },
  {
   "cell_type": "code",
   "execution_count": 2,
   "id": "f38a995a-4320-4463-a20f-7b981cdc1c08",
   "metadata": {},
   "outputs": [
    {
     "data": {
      "text/plain": [
       "'0.5.0'"
      ]
     },
     "execution_count": 2,
     "metadata": {},
     "output_type": "execute_result"
    }
   ],
   "source": [
    "import CM4Xutils\n",
    "CM4Xutils.__version__"
   ]
  },
  {
   "cell_type": "code",
   "execution_count": 3,
   "id": "6ae5ed88-59b0-43df-8734-8d9a363dc0ba",
   "metadata": {},
   "outputs": [],
   "source": [
    "zenodo_data_version = \"0.0.7\"\n",
    "doi = \"10.5281/zenodo.15420739\"\n",
    "\n",
    "zenodo_data_version = zenodo_data_version.replace(\".\", \"_\") # for cleaner filenames"
   ]
  },
  {
   "cell_type": "code",
   "execution_count": 4,
   "id": "5a1025d6-8e50-48af-b901-a765283bedfd",
   "metadata": {},
   "outputs": [],
   "source": [
    "import warnings\n",
    "import dask\n",
    "import xarray as xr\n",
    "import xwmt\n",
    "import xgcm\n",
    "import matplotlib.pyplot as plt\n",
    "import numpy as np\n",
    "import cftime\n",
    "\n",
    "import doralite\n",
    "import gfdl_utils.core as gu"
   ]
  },
  {
   "cell_type": "code",
   "execution_count": 5,
   "id": "4fd2d5b8-d5c0-42f8-a00f-eba5414d6b5a",
   "metadata": {},
   "outputs": [
    {
     "name": "stdout",
     "output_type": "stream",
     "text": [
      "Loading CM4Xp25-piControl for interval `2000`.\n",
      "Issuing dmget command to migrate data to disk. Migration complete.\n"
     ]
    },
    {
     "name": "stderr",
     "output_type": "stream",
     "text": [
      "/work/hfd/.conda/envs/CM4X/lib/python3.12/site-packages/xgcm/grid_ufunc.py:836: FutureWarning: The return type of `Dataset.dims` will be changed to return a set of dimension names in future, in order to be more consistent with `DataArray.dims`. To access a mapping from dimension names to lengths, please use `Dataset.sizes`.\n",
      "  out_dim: grid._ds.dims[out_dim] for arg in out_core_dims for out_dim in arg\n"
     ]
    },
    {
     "name": "stdout",
     "output_type": "stream",
     "text": [
      "Issuing dmget command to migrate data to disk. Migration complete.\n"
     ]
    },
    {
     "name": "stderr",
     "output_type": "stream",
     "text": [
      "/work/hfd/.conda/envs/CM4X/lib/python3.12/site-packages/xgcm/grid_ufunc.py:836: FutureWarning: The return type of `Dataset.dims` will be changed to return a set of dimension names in future, in order to be more consistent with `DataArray.dims`. To access a mapping from dimension names to lengths, please use `Dataset.sizes`.\n",
      "  out_dim: grid._ds.dims[out_dim] for arg in out_core_dims for out_dim in arg\n",
      "/work/hfd/.conda/envs/CM4X/lib/python3.12/site-packages/xgcm/grid_ufunc.py:836: FutureWarning: The return type of `Dataset.dims` will be changed to return a set of dimension names in future, in order to be more consistent with `DataArray.dims`. To access a mapping from dimension names to lengths, please use `Dataset.sizes`.\n",
      "  out_dim: grid._ds.dims[out_dim] for arg in out_core_dims for out_dim in arg\n"
     ]
    },
    {
     "name": "stdout",
     "output_type": "stream",
     "text": [
      "Issuing dmget command to migrate data to disk. Migration complete.\n",
      "Issuing dmget command to migrate data to disk. Migration complete.\n",
      "Issuing dmget command to migrate data to disk. Migration complete.\n",
      "Loading CM4Xp25-historical for interval `2000`.\n",
      "Issuing dmget command to migrate data to disk. Migration complete.\n"
     ]
    },
    {
     "name": "stderr",
     "output_type": "stream",
     "text": [
      "/work/hfd/.conda/envs/CM4X/lib/python3.12/site-packages/xgcm/grid_ufunc.py:836: FutureWarning: The return type of `Dataset.dims` will be changed to return a set of dimension names in future, in order to be more consistent with `DataArray.dims`. To access a mapping from dimension names to lengths, please use `Dataset.sizes`.\n",
      "  out_dim: grid._ds.dims[out_dim] for arg in out_core_dims for out_dim in arg\n"
     ]
    },
    {
     "name": "stdout",
     "output_type": "stream",
     "text": [
      "Issuing dmget command to migrate data to disk. Migration complete.\n"
     ]
    },
    {
     "name": "stderr",
     "output_type": "stream",
     "text": [
      "/work/hfd/.conda/envs/CM4X/lib/python3.12/site-packages/xgcm/grid_ufunc.py:836: FutureWarning: The return type of `Dataset.dims` will be changed to return a set of dimension names in future, in order to be more consistent with `DataArray.dims`. To access a mapping from dimension names to lengths, please use `Dataset.sizes`.\n",
      "  out_dim: grid._ds.dims[out_dim] for arg in out_core_dims for out_dim in arg\n",
      "/work/hfd/.conda/envs/CM4X/lib/python3.12/site-packages/xgcm/grid_ufunc.py:836: FutureWarning: The return type of `Dataset.dims` will be changed to return a set of dimension names in future, in order to be more consistent with `DataArray.dims`. To access a mapping from dimension names to lengths, please use `Dataset.sizes`.\n",
      "  out_dim: grid._ds.dims[out_dim] for arg in out_core_dims for out_dim in arg\n"
     ]
    },
    {
     "name": "stdout",
     "output_type": "stream",
     "text": [
      "Issuing dmget command to migrate data to disk. Migration complete.\n",
      "Issuing dmget command to migrate data to disk. Migration complete.\n",
      "Issuing dmget command to migrate data to disk. Migration complete.\n",
      "Overriding CM4Xp25 grid coordinates from supergrid.\n",
      "Regridding ice\n",
      "Inferring Z grid coordinate: depth `z_`\n"
     ]
    },
    {
     "name": "stderr",
     "output_type": "stream",
     "text": [
      "/work/hfd/.conda/envs/CM4X/lib/python3.12/site-packages/dask/core.py:127: RuntimeWarning: invalid value encountered in divide\n",
      "  return func(*(_execute_task(a, cache) for a in args))\n"
     ]
    }
   ],
   "source": [
    "grid = CM4Xutils.load_wmt_grid(\n",
    "    \"CM4Xp25\",\n",
    "    interval=str(2000),\n",
    "    dmget=True\n",
    ")"
   ]
  },
  {
   "cell_type": "code",
   "execution_count": 6,
   "id": "dc1e80ba-f5ba-4d0c-b587-11d50931a051",
   "metadata": {},
   "outputs": [],
   "source": [
    "grid._ds.sigma2.attrs = {\n",
    "    \"long_name\": \"Potential Density referenced to 2000 dbar (minus 1000 kg/m3)\",\n",
    "    \"units\": \"kg m-3\",\n",
    "    \"cell_methods\": \"area:mean z_l:mean yh:mean xh:mean time:mean\",\n",
    "    \"volume\": \"volcello\",\n",
    "    \"area\": \"areacello\",\n",
    "    \"time_avg_info\": \"average_T1,average_T2,average_DT\",\n",
    "    \"description\": \"Computed offline using the gsw python package implementation of TEOS10.\",\n",
    "}"
   ]
  },
  {
   "cell_type": "markdown",
   "id": "6fbab8dc-3111-4f95-87a8-129a45476a38",
   "metadata": {},
   "source": [
    "## Isolate minimal subset of surface variables for surface WMT calculations"
   ]
  },
  {
   "cell_type": "code",
   "execution_count": 7,
   "id": "a5d31a09-ba92-43e5-a1ac-0a84957c4cb1",
   "metadata": {},
   "outputs": [],
   "source": [
    "ds_2d = grid._ds.copy().chunk(-1)\n",
    "ds_2d[\"rsntds\"] = ds_2d[\"rsdoabsorb\"].sum(\"z_l\")\n",
    "two_dim_vars = [\n",
    "    \"tos\", \"sos\", # state variables required for surface density\n",
    "    \"wfo\", \"prlq\", \"prsn\", \"evs\", \"friver\", \"ficeberg\", \"friver\", \"fsitherm\", \"vprec\", # surface freshwater fluxes\n",
    "    \"hfds\", \"hflso\", \"hfsso\", \"rlntds\", \"rsntds\", # surface heat fluxes\n",
    "    \"sfdsi\",\n",
    "]\n",
    "ds_2d = ds_2d.drop_vars([v for v in ds_2d.data_vars if (v not in ds_2d.coords) and (v not in two_dim_vars)])\n",
    "ds_2d = ds_2d.isel(z_l=0, drop=True).sel(time=ds_2d.time[0:12], exp=\"forced\", drop=True)"
   ]
  },
  {
   "cell_type": "code",
   "execution_count": 8,
   "id": "166093fa-478b-4b66-94f5-32546dff3831",
   "metadata": {},
   "outputs": [],
   "source": [
    "ds_2d.attrs = {\n",
    "    \"description\": \"An example netcdf file containing the surface heat, freshwater, and salt fluxes required to compute surface-forced water mass transformations in MOM6. All variables are provided on the eddy-permitting native horizontal grid.\",\n",
    "    \"version\": zenodo_data_version,\n",
    "    \"doi\": doi\n",
    "}\n",
    "ds_2d.to_netcdf(f\"../data/MOM6_example_diags/MOM6_global_example_surface_fluxes_v{zenodo_data_version}.nc\", mode=\"w\")"
   ]
  },
  {
   "cell_type": "markdown",
   "id": "24792bc3-abcb-4fce-956e-e54d2dc1c7ab",
   "metadata": {},
   "source": [
    "## Compute the annual mean for the first year"
   ]
  },
  {
   "cell_type": "code",
   "execution_count": 9,
   "id": "8c97d2f6-7494-47fa-b8e7-3ab69446189b",
   "metadata": {},
   "outputs": [],
   "source": [
    "drop_vars = [\"average_DT\", \"average_T1\", \"average_T2\", \"vo\", \"uo\"]\n",
    "ds = grid._ds.sel(exp=\"forced\", drop=True).isel(time=np.arange(0,12,1), time_bounds=np.arange(0,13,1)).drop_vars(drop_vars).fillna(0.)"
   ]
  },
  {
   "cell_type": "code",
   "execution_count": 10,
   "id": "009df32a-0c1e-420b-8d23-756163e951bd",
   "metadata": {},
   "outputs": [],
   "source": [
    "def to_numeric_time(date):\n",
    "    # Convert to number of days since 0001-01-01\n",
    "    return cftime.date2num(date, units='days since 0001-01-01', calendar='noleap')\n",
    "\n",
    "# Apply the function to your time array\n",
    "numeric_time = np.vectorize(to_numeric_time)(ds.time_bounds.values)\n",
    "\n",
    "# Convert days to seconds\n",
    "seconds_array = numeric_time * 24 * 60 * 60\n",
    "\n",
    "ds = ds.assign_coords({\"time_delta\":xr.DataArray(np.diff(seconds_array), dims=(\"time\",))})"
   ]
  },
  {
   "cell_type": "code",
   "execution_count": 11,
   "id": "535ec4e4-fdb7-44d4-95e0-16025cd6d685",
   "metadata": {},
   "outputs": [],
   "source": [
    "# Annual-mean, weighted by length of each month\n",
    "# Note: da.weighted behaves strangely when there are NaNs. Fill the NaNs for correct behavior!\n",
    "#ds_mean = ds.drop_dims(\"time_bounds\").weighted(ds.time_delta).mean(dim=\"time\", keep_attrs=True).chunk(-1)\n",
    "ds_mean = ds.fillna(0.).drop_dims(\"time_bounds\").weighted(ds.time_delta).mean(dim=\"time\", keep_attrs=True).chunk(-1)\n",
    "ds_mean = ds_mean.assign_coords({c:ds.coords[c] for c in ds.coords if c in ds_mean.coords})\n",
    "ds_mean = ds_mean.expand_dims([\"time\"]).assign_coords({\"time\": xr.DataArray(ds.time_bounds[[6]].values, dims=(\"time\",), attrs=ds.coords[\"time\"].attrs)})\n",
    "ds_mean = ds_mean.assign_coords({\"geolon_c\": ds.geolon_c, \"geolat_c\": ds.geolat_c})"
   ]
  },
  {
   "cell_type": "code",
   "execution_count": 12,
   "id": "3b87ff89-3fb0-476e-b66d-ad64a176cce0",
   "metadata": {},
   "outputs": [
    {
     "name": "stdout",
     "output_type": "stream",
     "text": [
      "Issuing dmget command to migrate data to disk. Migration complete.\n"
     ]
    }
   ],
   "source": [
    "exp = \"historical\"\n",
    "t = \"*2000*\"\n",
    "pp = doralite.dora_metadata(CM4Xutils.exp_dict[\"CM4Xp25\"][exp])['pathPP']\n",
    "ppname = gu.find_unique_variable(pp, \"T_adx\")\n",
    "out = \"ts\"\n",
    "local = gu.get_local(pp, ppname, out)\n",
    "ds_mean_heat_transports = (\n",
    "    gu.open_frompp(pp, ppname, out, local, t, [\"T_adx\", \"T_ady\"], chunks=-1, dmget=True)\n",
    "    .drop_dims(\"nv\").drop_vars([\"average_DT\", \"average_T1\", \"average_T2\"])\n",
    "    .isel(time=[0])\n",
    ")\n",
    "ds_mean_heat_transports = ds_mean_heat_transports.assign_coords({c:ds_mean.coords[c] for c in ds_mean.coords})\n",
    "\n",
    "ds_mean = xr.merge([ds_mean, ds_mean_heat_transports])"
   ]
  },
  {
   "cell_type": "markdown",
   "id": "76ad15e8-0aff-48eb-a426-9588c471b217",
   "metadata": {},
   "source": [
    "## Create the z-coordinate grid"
   ]
  },
  {
   "cell_type": "code",
   "execution_count": 13,
   "id": "cb00dc0b-f133-498f-b416-5bfae32d2599",
   "metadata": {},
   "outputs": [],
   "source": [
    "coords={\n",
    "    'X': {'center': 'xh',  'outer': 'xq'},\n",
    "    'Y': {'center': 'yh',  'outer': 'yq'},\n",
    "    'Z': {'center': 'z_l', 'outer': 'z_i'},\n",
    "}\n",
    "metrics = {\n",
    "    ('X', 'Y'): ['areacello']\n",
    "}\n",
    "grid_mean = xgcm.Grid(\n",
    "    ds_mean,\n",
    "    coords=coords,\n",
    "    metrics=metrics,\n",
    "    boundary={\"X\":\"periodic\", \"Y\":\"extend\", \"Z\":\"extend\"},\n",
    "    autoparse_metadata=False\n",
    ")"
   ]
  },
  {
   "cell_type": "markdown",
   "id": "99dd1046-f993-48a6-af15-b521d4d20e22",
   "metadata": {},
   "source": [
    "### Save density, thickness, and mass transport variables in z-coordinates"
   ]
  },
  {
   "cell_type": "code",
   "execution_count": 14,
   "id": "45aae4b1-2ba0-4cd7-bbca-d65baa59bb92",
   "metadata": {},
   "outputs": [],
   "source": [
    "ds_transports = ds_mean[[\"umo\", \"vmo\"]]\n",
    "ds_transports = ds_transports.assign_coords(ds_mean.coords)\n",
    "ds_transports.attrs = {\n",
    "    \"description\": \"An example netcdf file containing annual-mean horizontal mass transports in a MOM6 simulation. All variables are provided on the eddy-permitting native horizontal grid but remapped online into depth coordinates from the hybrid vertical coordinate.\",\n",
    "    \"version\": zenodo_data_version,\n",
    "    \"doi\": doi\n",
    "}\n",
    "ds_transports.to_netcdf(f\"../data/MOM6_example_diags/MOM6_global_example_transport_zlevels_v{zenodo_data_version}.nc\", mode=\"w\")"
   ]
  },
  {
   "cell_type": "code",
   "execution_count": 15,
   "id": "f9a3409d-86ba-4875-8179-e977d77fca8f",
   "metadata": {},
   "outputs": [],
   "source": [
    "ds_density = ds_mean[[\"sigma2\", \"thkcello\"]]\n",
    "ds_density = ds_density.assign_coords(ds_mean.coords)\n",
    "ds_density.attrs = {\n",
    "    \"description\": \"An example netcdf file containing the annual-mean potential density field in a MOM6 simulation. All variables are provided on the eddy-permitting native horizontal grid but remapped online into depth coordinates from the hybrid vertical coordinate.\",\n",
    "    \"version\": zenodo_data_version,\n",
    "    \"doi\": doi\n",
    "}\n",
    "ds_density.to_netcdf(f\"../data/MOM6_example_diags/MOM6_global_example_sigma2_zlevels_v{zenodo_data_version}.nc\", mode=\"w\")"
   ]
  },
  {
   "cell_type": "markdown",
   "id": "221ab29d-733e-4738-8771-6b7b642c3fc1",
   "metadata": {},
   "source": [
    "### Save vertically-integrated mass and heat budget diagnostics on the native horizontal grid"
   ]
  },
  {
   "cell_type": "code",
   "execution_count": 16,
   "id": "9ffa5de0-736e-44ba-9fdd-a9625289ccf8",
   "metadata": {},
   "outputs": [],
   "source": [
    "ds_mass = ds_mean[[\n",
    "    \"umo\", \"vmo\", \"dhdt\", \"dynamics_h_tendency\", \"vert_remap_h_tendency\", \"boundary_forcing_h_tendency\",\n",
    "]]\n",
    "ds_mass = ds_mass.assign_coords(ds_mean.coords)\n",
    "ds_mass = ds_mass.sum(\"z_l\", keep_attrs=True).drop_dims([\"z_i\"]).compute()\n",
    "ds_mass.attrs = {\n",
    "    \"description\": \"An example netcdf file containing all variables required to close the vertically-integrated mass budgets in MOM6. All variables are provided on the higher resolution (eddy-permitting) native grid.\",\n",
    "    \"version\": zenodo_data_version,\n",
    "    \"doi\": doi\n",
    "}\n",
    "ds_mass.to_netcdf(f\"../data/MOM6_example_diags/MOM6_global_example_vertically_integrated_mass_budget_v{zenodo_data_version}.nc\", mode=\"w\")"
   ]
  },
  {
   "cell_type": "code",
   "execution_count": 17,
   "id": "7198772f-8d7a-4979-a9fb-d0f78878dc90",
   "metadata": {},
   "outputs": [],
   "source": [
    "ds_heat = ds_mean[[\n",
    "    \"tos\",\n",
    "    \"T_adx\", \"T_ady\",\n",
    "    \"opottemptend\", \"T_advection_xy\", \"Th_tendency_vert_remap\",\n",
    "    \"boundary_forcing_heat_tendency\", \"opottempdiff\",\n",
    "    \"internal_heat_heat_tendency\", \"frazil_heat_tendency\"\n",
    "]]\n",
    "ds_heat = ds_heat.assign_coords(ds_mean.coords)\n",
    "ds_heat = ds_heat.sum(\"z_l\", keep_attrs=True).drop_dims([\"z_i\"]).compute()\n",
    "ds_heat.attrs = {\n",
    "    \"description\": \"An example netcdf file containing all variables required to close the vertically-integrated heat budgets in MOM6. All variables are provided on the higher resolution (eddy-permitting) native grid.\",\n",
    "    \"version\": zenodo_data_version,\n",
    "    \"doi\": doi\n",
    "}\n",
    "ds_heat.to_netcdf(f\"../data/MOM6_example_diags/MOM6_global_example_vertically_integrated_heat_budget_v{zenodo_data_version}.nc\", mode=\"w\")"
   ]
  },
  {
   "cell_type": "markdown",
   "id": "1919816a-7934-4e4d-8bae-0b373c3e97b1",
   "metadata": {},
   "source": [
    "### Save horizontally-coarsened diagnostics on all depth levels"
   ]
  },
  {
   "cell_type": "code",
   "execution_count": 18,
   "id": "d3218130-a67b-4f2c-bf61-ad46563dea3e",
   "metadata": {},
   "outputs": [
    {
     "name": "stdout",
     "output_type": "stream",
     "text": [
      "Skipping variable time_bnds because `cell_methods` attribute not defined.\n"
     ]
    }
   ],
   "source": [
    "ds_coarse = CM4Xutils.coarsen.horizontally_coarsen(ds_mean, grid_mean, {\"X\":6, \"Y\":6})\n",
    "ds_coarse.attrs = {\n",
    "    \"description\": \"An example netcdf file containing all variables required to close mass, heat, salt, and thermodynamic density budgets in MOM6, as well as some other useful variables. All variables have been conservatively coarsened from the higher resolution (eddy-permitting) native grid.\",\n",
    "    \"version\": zenodo_data_version,\n",
    "    \"doi\": doi\n",
    "}\n",
    "ds_coarse.to_netcdf(f\"../data/MOM6_example_diags/MOM6_global_example_diagnostics_zlevels_v{zenodo_data_version}.nc\", mode=\"w\")"
   ]
  }
 ],
 "metadata": {
  "kernelspec": {
   "display_name": "CM4X",
   "language": "python",
   "name": "cm4x"
  },
  "language_info": {
   "codemirror_mode": {
    "name": "ipython",
    "version": 3
   },
   "file_extension": ".py",
   "mimetype": "text/x-python",
   "name": "python",
   "nbconvert_exporter": "python",
   "pygments_lexer": "ipython3",
   "version": "3.12.3"
  }
 },
 "nbformat": 4,
 "nbformat_minor": 5
}
