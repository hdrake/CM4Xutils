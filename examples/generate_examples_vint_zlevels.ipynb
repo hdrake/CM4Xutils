{
 "cells": [
  {
   "cell_type": "code",
   "execution_count": 1,
   "id": "285e303f-32a1-4652-a1c6-959c5ff7b932",
   "metadata": {},
   "outputs": [],
   "source": [
    "%load_ext autoreload\n",
    "%autoreload 2"
   ]
  },
  {
   "cell_type": "code",
   "execution_count": 2,
   "id": "f38a995a-4320-4463-a20f-7b981cdc1c08",
   "metadata": {},
   "outputs": [
    {
     "data": {
      "text/plain": [
       "'0.5.0'"
      ]
     },
     "execution_count": 2,
     "metadata": {},
     "output_type": "execute_result"
    }
   ],
   "source": [
    "import CM4Xutils\n",
    "CM4Xutils.__version__"
   ]
  },
  {
   "cell_type": "code",
   "execution_count": 3,
   "id": "5a1025d6-8e50-48af-b901-a765283bedfd",
   "metadata": {},
   "outputs": [],
   "source": [
    "import warnings\n",
    "import dask\n",
    "import xarray as xr\n",
    "import xwmt\n",
    "import xgcm\n",
    "import matplotlib.pyplot as plt\n",
    "import numpy as np\n",
    "import cftime\n",
    "\n",
    "import doralite\n",
    "import gfdl_utils.core as gu"
   ]
  },
  {
   "cell_type": "code",
   "execution_count": 4,
   "id": "4fd2d5b8-d5c0-42f8-a00f-eba5414d6b5a",
   "metadata": {},
   "outputs": [
    {
     "name": "stdout",
     "output_type": "stream",
     "text": [
      "Loading CM4Xp25-piControl for interval `2000`.\n",
      "Issuing dmget command to migrate data to disk. Migration complete.\n"
     ]
    },
    {
     "name": "stderr",
     "output_type": "stream",
     "text": [
      "/work/hfd/.conda/envs/CM4X/lib/python3.12/site-packages/xgcm/grid_ufunc.py:836: FutureWarning: The return type of `Dataset.dims` will be changed to return a set of dimension names in future, in order to be more consistent with `DataArray.dims`. To access a mapping from dimension names to lengths, please use `Dataset.sizes`.\n",
      "  out_dim: grid._ds.dims[out_dim] for arg in out_core_dims for out_dim in arg\n"
     ]
    },
    {
     "name": "stdout",
     "output_type": "stream",
     "text": [
      "Issuing dmget command to migrate data to disk. Migration complete.\n"
     ]
    },
    {
     "name": "stderr",
     "output_type": "stream",
     "text": [
      "/work/hfd/.conda/envs/CM4X/lib/python3.12/site-packages/xgcm/grid_ufunc.py:836: FutureWarning: The return type of `Dataset.dims` will be changed to return a set of dimension names in future, in order to be more consistent with `DataArray.dims`. To access a mapping from dimension names to lengths, please use `Dataset.sizes`.\n",
      "  out_dim: grid._ds.dims[out_dim] for arg in out_core_dims for out_dim in arg\n",
      "/work/hfd/.conda/envs/CM4X/lib/python3.12/site-packages/xgcm/grid_ufunc.py:836: FutureWarning: The return type of `Dataset.dims` will be changed to return a set of dimension names in future, in order to be more consistent with `DataArray.dims`. To access a mapping from dimension names to lengths, please use `Dataset.sizes`.\n",
      "  out_dim: grid._ds.dims[out_dim] for arg in out_core_dims for out_dim in arg\n"
     ]
    },
    {
     "name": "stdout",
     "output_type": "stream",
     "text": [
      "Issuing dmget command to migrate data to disk. Migration complete.\n",
      "Issuing dmget command to migrate data to disk. Migration complete.\n",
      "Issuing dmget command to migrate data to disk. Migration complete.\n",
      "Loading CM4Xp25-historical for interval `2000`.\n",
      "Issuing dmget command to migrate data to disk. Migration complete.\n"
     ]
    },
    {
     "name": "stderr",
     "output_type": "stream",
     "text": [
      "/work/hfd/.conda/envs/CM4X/lib/python3.12/site-packages/xgcm/grid_ufunc.py:836: FutureWarning: The return type of `Dataset.dims` will be changed to return a set of dimension names in future, in order to be more consistent with `DataArray.dims`. To access a mapping from dimension names to lengths, please use `Dataset.sizes`.\n",
      "  out_dim: grid._ds.dims[out_dim] for arg in out_core_dims for out_dim in arg\n"
     ]
    },
    {
     "name": "stdout",
     "output_type": "stream",
     "text": [
      "Issuing dmget command to migrate data to disk. Migration complete.\n"
     ]
    },
    {
     "name": "stderr",
     "output_type": "stream",
     "text": [
      "/work/hfd/.conda/envs/CM4X/lib/python3.12/site-packages/xgcm/grid_ufunc.py:836: FutureWarning: The return type of `Dataset.dims` will be changed to return a set of dimension names in future, in order to be more consistent with `DataArray.dims`. To access a mapping from dimension names to lengths, please use `Dataset.sizes`.\n",
      "  out_dim: grid._ds.dims[out_dim] for arg in out_core_dims for out_dim in arg\n",
      "/work/hfd/.conda/envs/CM4X/lib/python3.12/site-packages/xgcm/grid_ufunc.py:836: FutureWarning: The return type of `Dataset.dims` will be changed to return a set of dimension names in future, in order to be more consistent with `DataArray.dims`. To access a mapping from dimension names to lengths, please use `Dataset.sizes`.\n",
      "  out_dim: grid._ds.dims[out_dim] for arg in out_core_dims for out_dim in arg\n"
     ]
    },
    {
     "name": "stdout",
     "output_type": "stream",
     "text": [
      "Issuing dmget command to migrate data to disk. Migration complete.\n",
      "Issuing dmget command to migrate data to disk. Migration complete.\n",
      "Issuing dmget command to migrate data to disk. Migration complete.\n",
      "Overriding CM4Xp25 grid coordinates from supergrid.\n",
      "Regridding ice\n",
      "Inferring Z grid coordinate: depth `z_`\n"
     ]
    },
    {
     "name": "stderr",
     "output_type": "stream",
     "text": [
      "/work/hfd/.conda/envs/CM4X/lib/python3.12/site-packages/dask/core.py:127: RuntimeWarning: invalid value encountered in divide\n",
      "  return func(*(_execute_task(a, cache) for a in args))\n"
     ]
    }
   ],
   "source": [
    "grid = CM4Xutils.load_wmt_grid(\n",
    "    \"CM4Xp25\",\n",
    "    interval=str(2000),\n",
    "    dmget=True\n",
    ")"
   ]
  },
  {
   "cell_type": "code",
   "execution_count": 5,
   "id": "dc1e80ba-f5ba-4d0c-b587-11d50931a051",
   "metadata": {},
   "outputs": [],
   "source": [
    "grid._ds.sigma2.attrs = {\n",
    "    \"long_name\": \"Potential Density referenced to 2000 dbar (minus 1000 kg/m3)\",\n",
    "    \"units\": \"kg m-3\",\n",
    "    \"cell_methods\": \"area:mean z_l:mean yh:mean xh:mean time:mean\",\n",
    "    \"volume\": \"volcello\",\n",
    "    \"area\": \"areacello\",\n",
    "    \"time_avg_info\": \"average_T1,average_T2,average_DT\",\n",
    "    \"description\": \"Computed offline using the gsw python package implementation of TEOS10.\",\n",
    "}"
   ]
  },
  {
   "cell_type": "markdown",
   "id": "24792bc3-abcb-4fce-956e-e54d2dc1c7ab",
   "metadata": {},
   "source": [
    "## Compute the annual mean for the first year"
   ]
  },
  {
   "cell_type": "code",
   "execution_count": 6,
   "id": "8c97d2f6-7494-47fa-b8e7-3ab69446189b",
   "metadata": {},
   "outputs": [],
   "source": [
    "drop_vars = [\"average_DT\", \"average_T1\", \"average_T2\", \"vo\", \"uo\"]\n",
    "ds = grid._ds.sel(exp=\"forced\").isel(time=np.arange(0,12,1), time_bounds=np.arange(0,13,1)).drop_vars(drop_vars).fillna(0.)"
   ]
  },
  {
   "cell_type": "code",
   "execution_count": 7,
   "id": "009df32a-0c1e-420b-8d23-756163e951bd",
   "metadata": {},
   "outputs": [],
   "source": [
    "def to_numeric_time(date):\n",
    "    # Convert to number of days since 0001-01-01\n",
    "    return cftime.date2num(date, units='days since 0001-01-01', calendar='noleap')\n",
    "\n",
    "# Apply the function to your time array\n",
    "numeric_time = np.vectorize(to_numeric_time)(ds.time_bounds.values)\n",
    "\n",
    "# Convert days to seconds\n",
    "seconds_array = numeric_time * 24 * 60 * 60\n",
    "\n",
    "ds = ds.assign_coords({\"time_delta\":xr.DataArray(np.diff(seconds_array), dims=(\"time\",))})"
   ]
  },
  {
   "cell_type": "code",
   "execution_count": 8,
   "id": "535ec4e4-fdb7-44d4-95e0-16025cd6d685",
   "metadata": {},
   "outputs": [],
   "source": [
    "# Annual-mean, weighted by length of each month\n",
    "# Note: da.weighted behaves strangely when there are NaNs. Fill the NaNs for correct behavior!\n",
    "ds_mean = ds.drop_dims(\"time_bounds\").weighted(ds.time_delta).mean(dim=\"time\", keep_attrs=True)\n",
    "ds_mean = ds_mean.expand_dims([\"time\"]).assign_coords({\"time\": xr.DataArray(ds.time_bounds[[6]].values, dims=(\"time\",))})\n",
    "ds_mean = ds_mean.assign_coords({\"geolon_c\": ds.geolon_c, \"geolat_c\": ds.geolat_c})"
   ]
  },
  {
   "cell_type": "markdown",
   "id": "76ad15e8-0aff-48eb-a426-9588c471b217",
   "metadata": {},
   "source": [
    "## Create the z-coordinate grid"
   ]
  },
  {
   "cell_type": "code",
   "execution_count": 9,
   "id": "cb00dc0b-f133-498f-b416-5bfae32d2599",
   "metadata": {},
   "outputs": [],
   "source": [
    "coords={\n",
    "    'X': {'center': 'xh',  'outer': 'xq'},\n",
    "    'Y': {'center': 'yh',  'outer': 'yq'},\n",
    "    'Z': {'center': 'z_l', 'outer': 'z_i'},\n",
    "}\n",
    "metrics = {\n",
    "    ('X', 'Y'): ['areacello']\n",
    "}\n",
    "grid_mean = xgcm.Grid(\n",
    "    ds_mean,\n",
    "    coords=coords,\n",
    "    metrics=metrics,\n",
    "    boundary={\"X\":\"periodic\", \"Y\":\"extend\", \"Z\":\"extend\"},\n",
    "    autoparse_metadata=False\n",
    ")"
   ]
  },
  {
   "cell_type": "markdown",
   "id": "221ab29d-733e-4738-8771-6b7b642c3fc1",
   "metadata": {},
   "source": [
    "### Save vertically-integrated mass budget diagnostics on the native horizontal grid"
   ]
  },
  {
   "cell_type": "code",
   "execution_count": 10,
   "id": "9ffa5de0-736e-44ba-9fdd-a9625289ccf8",
   "metadata": {},
   "outputs": [],
   "source": [
    "ds_integral = ds_mean[[\"umo\", \"vmo\", \"dhdt\", \"dynamics_h_tendency\", \"vert_remap_h_tendency\", \"boundary_forcing_h_tendency\"]]\n",
    "ds_integral = ds_integral.assign_coords(ds_mean.coords)\n",
    "ds_integral = ds_integral.sum(\"z_l\", keep_attrs=True).drop_dims([\"z_i\"]).compute()"
   ]
  },
  {
   "cell_type": "code",
   "execution_count": 11,
   "id": "5cbc54cd-0150-445c-aac7-5cd6f30a49b8",
   "metadata": {},
   "outputs": [],
   "source": [
    "ds_integral.attrs = {\"description\": \"An example netcdf file containing all variables required to close the vertically-integrated mass budgets in MOM6. All variables are provided on the higher resolution (eddy-permitting) native grid.\"}"
   ]
  },
  {
   "cell_type": "code",
   "execution_count": 12,
   "id": "5dd90e58-6396-4955-986b-654dca6ed77c",
   "metadata": {},
   "outputs": [],
   "source": [
    "ds_integral.to_netcdf(\"../data/MOM6_global_example_barotropic_mass_budget.nc\", mode=\"w\")"
   ]
  },
  {
   "cell_type": "markdown",
   "id": "1919816a-7934-4e4d-8bae-0b373c3e97b1",
   "metadata": {},
   "source": [
    "### Save horizontally-coarsened diagnostics on all depth levels"
   ]
  },
  {
   "cell_type": "code",
   "execution_count": 13,
   "id": "d3218130-a67b-4f2c-bf61-ad46563dea3e",
   "metadata": {},
   "outputs": [
    {
     "name": "stdout",
     "output_type": "stream",
     "text": [
      "Skipping variable time_bnds because `cell_methods` attribute not defined.\n",
      "Skipping variable areacello because `cell_methods` attribute not defined.\n",
      "Skipping variable deptho because `cell_methods` attribute not defined.\n",
      "Skipping variable wet because `cell_methods` attribute not defined.\n",
      "Skipping variable wet_u because `cell_methods` attribute not defined.\n",
      "Skipping variable wet_v because `cell_methods` attribute not defined.\n",
      "Skipping variable dxCv because `cell_methods` attribute not defined.\n",
      "Skipping variable dyCu because `cell_methods` attribute not defined.\n"
     ]
    }
   ],
   "source": [
    "ds_coarse = CM4Xutils.coarsen.horizontally_coarsen(ds_mean, grid_mean, {\"X\":6, \"Y\":6})"
   ]
  },
  {
   "cell_type": "code",
   "execution_count": 14,
   "id": "a69a1dc3-0d0e-4aeb-a375-ccf0e4cc3de2",
   "metadata": {},
   "outputs": [],
   "source": [
    "ds_coarse.attrs = {\"description\": \"An example netcdf file containing all variables required to close mass, heat, salt, and thermodynamic density budgets in MOM6, as well as some other useful variables. All variables have been conservatively coarsened from the higher resolution (eddy-permitting) native grid.\"}"
   ]
  },
  {
   "cell_type": "code",
   "execution_count": 15,
   "id": "ec4cbe54-0704-48b7-b8c2-b3ccc2f37a48",
   "metadata": {},
   "outputs": [],
   "source": [
    "ds_coarse.to_netcdf(\"../data/MOM6_global_example_diagnostics_zlevels.nc\", mode=\"w\")"
   ]
  },
  {
   "cell_type": "code",
   "execution_count": null,
   "id": "7a9f3f83-3e00-41de-b350-716f4c708784",
   "metadata": {},
   "outputs": [],
   "source": []
  }
 ],
 "metadata": {
  "kernelspec": {
   "display_name": "CM4X",
   "language": "python",
   "name": "cm4x"
  },
  "language_info": {
   "codemirror_mode": {
    "name": "ipython",
    "version": 3
   },
   "file_extension": ".py",
   "mimetype": "text/x-python",
   "name": "python",
   "nbconvert_exporter": "python",
   "pygments_lexer": "ipython3",
   "version": "3.12.3"
  }
 },
 "nbformat": 4,
 "nbformat_minor": 5
}
