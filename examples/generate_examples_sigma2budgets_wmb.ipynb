{
 "cells": [
  {
   "cell_type": "code",
   "execution_count": 1,
   "id": "20309d88-bc4f-4f71-ad36-9e443bf47167",
   "metadata": {},
   "outputs": [],
   "source": [
    "%load_ext autoreload\n",
    "%autoreload 2"
   ]
  },
  {
   "cell_type": "code",
   "execution_count": 2,
   "id": "f8bd7b1e-8226-419b-8707-27069db95d3b",
   "metadata": {},
   "outputs": [
    {
     "data": {
      "text/plain": [
       "'0.5.0'"
      ]
     },
     "execution_count": 2,
     "metadata": {},
     "output_type": "execute_result"
    }
   ],
   "source": [
    "import CM4Xutils\n",
    "CM4Xutils.__version__"
   ]
  },
  {
   "cell_type": "code",
   "execution_count": 3,
   "id": "fc52ef5e-4080-4c46-9a39-b12c14fdd51d",
   "metadata": {},
   "outputs": [],
   "source": [
    "import xarray as xr\n",
    "import numpy as np\n",
    "import cftime"
   ]
  },
  {
   "cell_type": "code",
   "execution_count": 4,
   "id": "63d0a50b-431e-4a17-83ff-a756f5b5304c",
   "metadata": {},
   "outputs": [
    {
     "name": "stderr",
     "output_type": "stream",
     "text": [
      "/work/hfd/.conda/envs/CM4X/lib/python3.12/site-packages/xarray/backends/plugins.py:159: RuntimeWarning: 'netcdf4' fails while guessing\n",
      "  warnings.warn(f\"{engine!r} fails while guessing\", RuntimeWarning)\n",
      "/work/hfd/.conda/envs/CM4X/lib/python3.12/site-packages/xarray/backends/plugins.py:159: RuntimeWarning: 'scipy' fails while guessing\n",
      "  warnings.warn(f\"{engine!r} fails while guessing\", RuntimeWarning)\n"
     ]
    }
   ],
   "source": [
    "ds = xr.open_dataset(\"../data/coarsened/CM4Xp25_budgets_sigma2_2000-2004.zarr\")\n",
    "ds = ds.sel(exp=\"forced\").drop_vars([\"RAIN\", \"EVAP\", \"LSNK\", \"LSRC\", \"SNOWFL\", \"ePBL_h_ML\", \"zos\", \"siconc\", \"sithick\", \"taux\", \"tauy\"]).drop_vars([\"exp\"])"
   ]
  },
  {
   "cell_type": "markdown",
   "id": "28dfea22-9a27-44c6-b16e-234ba6aa0d3d",
   "metadata": {},
   "source": [
    "### Compute annual mean"
   ]
  },
  {
   "cell_type": "code",
   "execution_count": 5,
   "id": "867427d4-ce61-4988-8e74-5b0d4079006e",
   "metadata": {},
   "outputs": [],
   "source": [
    "def to_numeric_time(date):\n",
    "    # Convert to number of days since 0001-01-01\n",
    "    return cftime.date2num(date, units='days since 0001-01-01', calendar='noleap')\n",
    "\n",
    "# Select just the first year's worth of data\n",
    "ds = ds.isel(time=np.arange(0, 12, 1), time_bounds=np.arange(0, 13, 1))\n",
    "\n",
    "# Apply the function to your time array\n",
    "numeric_time = np.vectorize(to_numeric_time)(ds.time_bounds.values)\n",
    "\n",
    "# Convert days to seconds\n",
    "seconds_array = numeric_time * 24 * 60 * 60\n",
    "\n",
    "ds = ds.assign_coords({\"time_delta\":xr.DataArray(np.diff(seconds_array), dims=(\"time\",))})"
   ]
  },
  {
   "cell_type": "code",
   "execution_count": 6,
   "id": "1c15a2e0-4513-43db-b3c7-5f7b5d2ab2b9",
   "metadata": {},
   "outputs": [],
   "source": [
    "# Annual-mean, weighted by length of each month\n",
    "# Note: da.weighted behaves strangely when there are NaNs. Fill the NaNs for correct behavior!\n",
    "ds_mean = ds.fillna(0.).drop_dims(\"time_bounds\").weighted(ds.time_delta).mean(dim=\"time\")\n",
    "ds_mean = ds_mean.expand_dims([\"time\"]).assign_coords({\"time\": xr.DataArray(ds.time_bounds[[6]].values, dims=(\"time\",))})\n",
    "\n",
    "# Keep only the snapshots at the beginning and end of the year\n",
    "ds_snaps = ds.fillna(0.).isel(time_bounds=np.array([0,-1])).drop_dims(\"time\")"
   ]
  },
  {
   "cell_type": "markdown",
   "id": "1d1f180c-0c45-4bfb-985f-8d504e58bcca",
   "metadata": {},
   "source": [
    "### Save density-binned and coarsened budgets"
   ]
  },
  {
   "cell_type": "code",
   "execution_count": 7,
   "id": "172071b4-e08b-45a0-b26d-cf49a300df6e",
   "metadata": {},
   "outputs": [],
   "source": [
    "ds_example = xr.merge([ds_snaps, ds_mean])\n",
    "ds_example.attrs = {\"description\": \"An example netcdf file containing all variables required to close mass, heat, salt, and thermodynamic density budgets in MOM6. All variables have been conservatively coarsened from an higher resolution (eddy-permitting) native grid.\"}"
   ]
  },
  {
   "cell_type": "code",
   "execution_count": 8,
   "id": "e2d9579e-c872-4c35-8db8-358616caf387",
   "metadata": {},
   "outputs": [],
   "source": [
    "ds_example.to_netcdf(\"../data/MOM6_global_example_sigma2_budgets.nc\", mode=\"w\")"
   ]
  },
  {
   "cell_type": "markdown",
   "id": "87169aa8-610c-427f-ba67-9f192b4e087a",
   "metadata": {},
   "source": [
    "### Save water mass transformation budget in density coordinates"
   ]
  },
  {
   "cell_type": "code",
   "execution_count": 9,
   "id": "4a25a8a6-27ec-4963-8051-424ba931e7a1",
   "metadata": {},
   "outputs": [
    {
     "name": "stdout",
     "output_type": "stream",
     "text": [
      "Inferring Z grid coordinate: density `sigma2`\n"
     ]
    }
   ],
   "source": [
    "import CM4Xutils\n",
    "grid = CM4Xutils.ds_to_grid(ds_example)"
   ]
  },
  {
   "cell_type": "code",
   "execution_count": 10,
   "id": "5d4287ff-ec0a-4078-a1c5-6f41d7e4f9c0",
   "metadata": {},
   "outputs": [],
   "source": [
    "import warnings\n",
    "import xbudget\n",
    "import xwmb\n",
    "with warnings.catch_warnings():\n",
    "    warnings.simplefilter(action='ignore', category=FutureWarning)\n",
    "\n",
    "    budgets_dict = xbudget.load_preset_budget(model=\"MOM6_3Donly\")\n",
    "    xbudget.collect_budgets(grid, budgets_dict)\n",
    "    \n",
    "    wmb = xwmb.WaterMassBudget(\n",
    "        grid,\n",
    "        budgets_dict,\n",
    "        method=\"xgcm\"\n",
    "    )\n",
    "    wmb.mass_budget(\"sigma2\", greater_than=True, integrate=True)\n",
    "    wmt = wmb.wmt\n",
    "    wmt.load()"
   ]
  },
  {
   "cell_type": "code",
   "execution_count": 11,
   "id": "c6ab1725-fd3c-4875-a673-712dd8a24ebc",
   "metadata": {},
   "outputs": [],
   "source": [
    "wmt.drop_dims([\"xh\", \"yh\"]).to_netcdf(\"../data/MOM6_global_example_sigma2_wmb.nc\", mode=\"w\")"
   ]
  },
  {
   "cell_type": "code",
   "execution_count": null,
   "id": "42739fa7-4dad-4165-b1f2-ec99a50ec8e7",
   "metadata": {},
   "outputs": [],
   "source": []
  },
  {
   "cell_type": "code",
   "execution_count": null,
   "id": "47195a21-1016-4803-b1ed-f0463660395b",
   "metadata": {},
   "outputs": [],
   "source": []
  }
 ],
 "metadata": {
  "kernelspec": {
   "display_name": "CM4X",
   "language": "python",
   "name": "cm4x"
  },
  "language_info": {
   "codemirror_mode": {
    "name": "ipython",
    "version": 3
   },
   "file_extension": ".py",
   "mimetype": "text/x-python",
   "name": "python",
   "nbconvert_exporter": "python",
   "pygments_lexer": "ipython3",
   "version": "3.12.3"
  }
 },
 "nbformat": 4,
 "nbformat_minor": 5
}
