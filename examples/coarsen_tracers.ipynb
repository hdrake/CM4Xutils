{
 "cells": [
  {
   "cell_type": "code",
   "execution_count": 1,
   "id": "12b609e4-6bb6-4442-94af-84ae763d890c",
   "metadata": {
    "tags": []
   },
   "outputs": [],
   "source": [
    "%load_ext autoreload\n",
    "%autoreload 2"
   ]
  },
  {
   "cell_type": "code",
   "execution_count": 2,
   "id": "17c2f5ed-4b3c-432a-9c9e-d7a42f56d89c",
   "metadata": {},
   "outputs": [
    {
     "data": {
      "text/plain": [
       "'0.5.0'"
      ]
     },
     "execution_count": 2,
     "metadata": {},
     "output_type": "execute_result"
    }
   ],
   "source": [
    "import CM4Xutils\n",
    "CM4Xutils.__version__"
   ]
  },
  {
   "cell_type": "code",
   "execution_count": 3,
   "id": "994b2394-ef36-41e0-8873-740975faa7a6",
   "metadata": {},
   "outputs": [],
   "source": [
    "import warnings\n",
    "import dask\n",
    "import xarray as xr\n",
    "import matplotlib.pyplot as plt\n",
    "\n",
    "import doralite\n",
    "import gfdl_utils.core as gu"
   ]
  },
  {
   "cell_type": "code",
   "execution_count": 4,
   "id": "1a3fdaf9-7b98-4638-af4e-c09e6cba7523",
   "metadata": {},
   "outputs": [],
   "source": [
    "import sys\n",
    "sys.path.insert(1, '../scipts')\n",
    "from scripts.remap_functions import remap_tracers_to_sigma2_and_coarsen"
   ]
  },
  {
   "cell_type": "code",
   "execution_count": null,
   "id": "3a93cdba-e843-4c5d-a54f-233fac483464",
   "metadata": {},
   "outputs": [
    {
     "name": "stdout",
     "output_type": "stream",
     "text": [
      "Issuing dmget command to migrate data to disk. Migration complete.\n",
      "Issuing dmget command to migrate data to disk. Migration complete.\n"
     ]
    }
   ],
   "source": [
    "ds = remap_tracers_to_sigma2_and_coarsen(\"CM4Xp125\", \"ssp585\", \"2020\")\n",
    "display(ds)"
   ]
  }
 ],
 "metadata": {
  "kernelspec": {
   "display_name": "CM4X",
   "language": "python",
   "name": "cm4x"
  },
  "language_info": {
   "codemirror_mode": {
    "name": "ipython",
    "version": 3
   },
   "file_extension": ".py",
   "mimetype": "text/x-python",
   "name": "python",
   "nbconvert_exporter": "python",
   "pygments_lexer": "ipython3",
   "version": "3.12.3"
  }
 },
 "nbformat": 4,
 "nbformat_minor": 5
}
