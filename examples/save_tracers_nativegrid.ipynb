{
 "cells": [
  {
   "cell_type": "code",
   "execution_count": 26,
   "id": "12b609e4-6bb6-4442-94af-84ae763d890c",
   "metadata": {
    "tags": []
   },
   "outputs": [
    {
     "name": "stdout",
     "output_type": "stream",
     "text": [
      "The autoreload extension is already loaded. To reload it, use:\n",
      "  %reload_ext autoreload\n"
     ]
    }
   ],
   "source": [
    "%load_ext autoreload\n",
    "%autoreload 2"
   ]
  },
  {
   "cell_type": "code",
   "execution_count": 27,
   "id": "17c2f5ed-4b3c-432a-9c9e-d7a42f56d89c",
   "metadata": {},
   "outputs": [
    {
     "data": {
      "text/plain": [
       "'0.4.1'"
      ]
     },
     "execution_count": 27,
     "metadata": {},
     "output_type": "execute_result"
    }
   ],
   "source": [
    "import CM4Xutils\n",
    "CM4Xutils.__version__"
   ]
  },
  {
   "cell_type": "code",
   "execution_count": 28,
   "id": "994b2394-ef36-41e0-8873-740975faa7a6",
   "metadata": {},
   "outputs": [],
   "source": [
    "import warnings\n",
    "import dask\n",
    "import xarray as xr\n",
    "import matplotlib.pyplot as plt\n",
    "\n",
    "import doralite\n",
    "import gfdl_utils.core as gu"
   ]
  },
  {
   "cell_type": "code",
   "execution_count": 62,
   "id": "3a93cdba-e843-4c5d-a54f-233fac483464",
   "metadata": {},
   "outputs": [
    {
     "name": "stdout",
     "output_type": "stream",
     "text": [
      "Issuing dmget command to migrate data to disk. Migration complete.\n",
      "Issuing dmget command to migrate data to disk. Migration complete.\n"
     ]
    }
   ],
   "source": [
    "models = [\"CM4Xp25\", \"CM4Xp125\"]\n",
    "for model in models:\n",
    "    ds = CM4Xutils.load_density_annual(CM4Xutils.exp_dict[model][\"historical\"], time=\"2010*\")\n",
    "    ds_example = ds.isel(time=0)[[\"sigma2\", \"thkcello\", \"so\", \"thetao\"]]\n",
    "    ds_example = ds_example.assign_coords({c: ds.coords[c] for c in ds.coords if c not in ds_example})\n",
    "    ds_example = ds_example.chunk({\"xh\":560, \"yh\":480})\n",
    "    filename = f\"/work/hfd/codedev/CM4Xutils/data/coarsened/{model}_native_resolution_example_2010.zarr\"\n",
    "    ds_example.to_zarr(filename, mode=\"a\")"
   ]
  }
 ],
 "metadata": {
  "kernelspec": {
   "display_name": "Python 3 (ipykernel)",
   "language": "python",
   "name": "python3"
  },
  "language_info": {
   "codemirror_mode": {
    "name": "ipython",
    "version": 3
   },
   "file_extension": ".py",
   "mimetype": "text/x-python",
   "name": "python",
   "nbconvert_exporter": "python",
   "pygments_lexer": "ipython3",
   "version": "3.12.3"
  }
 },
 "nbformat": 4,
 "nbformat_minor": 5
}
