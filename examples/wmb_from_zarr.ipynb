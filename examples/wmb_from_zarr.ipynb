{
 "cells": [
  {
   "cell_type": "code",
   "execution_count": 1,
   "id": "ad5bc1bb-d039-4c26-9cf5-5171612b8d9e",
   "metadata": {},
   "outputs": [],
   "source": [
    "%load_ext autoreload\n",
    "%autoreload 2"
   ]
  },
  {
   "cell_type": "code",
   "execution_count": 2,
   "id": "5a0e1582-aabf-43d7-88ef-2e74d24bf125",
   "metadata": {},
   "outputs": [],
   "source": [
    "import warnings\n",
    "import xarray as xr\n",
    "import xbudget\n",
    "import xwmb\n",
    "from CM4Xutils import *"
   ]
  },
  {
   "cell_type": "code",
   "execution_count": 3,
   "id": "8f42c8e6-009b-43e1-befc-27078f2d34d3",
   "metadata": {},
   "outputs": [],
   "source": [
    "local_path_to_budgets_zarr = \"../../../codedev/CM4Xutils/data/coarsened/CM4Xp25_budgets_sigma2_1850-1854.zarr\""
   ]
  },
  {
   "cell_type": "code",
   "execution_count": 4,
   "id": "1ec4b2ae-dabe-47ca-9470-b942645f9334",
   "metadata": {},
   "outputs": [
    {
     "name": "stdout",
     "output_type": "stream",
     "text": [
      "Inferring Z grid coordinate: density `sigma2`\n"
     ]
    }
   ],
   "source": [
    "ds = xr.open_zarr(local_path_to_budgets_zarr)\n",
    "grid = ds_to_grid(ds.fillna(0.))"
   ]
  },
  {
   "cell_type": "code",
   "execution_count": 9,
   "id": "912ff63b-7938-4f87-ad78-d738bfa6c6a8",
   "metadata": {},
   "outputs": [],
   "source": [
    "with warnings.catch_warnings():\n",
    "    warnings.simplefilter(action='ignore', category=FutureWarning)\n",
    "\n",
    "    budgets_dict = xbudget.load_preset_budget(model=\"MOM6_3Donly\")\n",
    "    xbudget.collect_budgets(grid, budgets_dict)\n",
    "    \n",
    "    wmb = xwmb.WaterMassBudget(\n",
    "        grid,\n",
    "        budgets_dict\n",
    "    )\n",
    "    wmb.mass_budget(\"sigma2\", greater_than=True, default_bins=True, integrate=True, along_section=False)\n",
    "    wmt = wmb.wmt"
   ]
  },
  {
   "cell_type": "code",
   "execution_count": null,
   "id": "9c1e07e8-676d-4ca1-b6f4-4683d7d73304",
   "metadata": {},
   "outputs": [],
   "source": [
    "%time wmt_mean = (wmt.sel(exp=\"control\").mean(\"time\")/1035*1e-6).compute()"
   ]
  },
  {
   "cell_type": "code",
   "execution_count": null,
   "id": "7e3f3735-ec53-4aca-9f8d-98330036ec05",
   "metadata": {},
   "outputs": [],
   "source": [
    "def stairs(wmt, var, units=\"kg\", **kwargs):\n",
    "    da = wmt[var]\n",
    "    coord = wmt[[c for c in wmt.coords if \"l_target\" in c][0]]\n",
    "    coord_bounds = wmt[[c for c in wmt.coords if \"i_target\" in c][0]]\n",
    "    l = plt.stairs(da, coord_bounds, **kwargs, orientation=\"horizontal\")\n",
    "    plt.xlabel(f\"mean transformation rate [{units}]\")\n",
    "    return l"
   ]
  },
  {
   "cell_type": "code",
   "execution_count": null,
   "id": "ab48a3a1-d45d-4cd4-aff3-33bf608e0a09",
   "metadata": {},
   "outputs": [],
   "source": [
    "import matplotlib.pyplot as plt\n",
    "plt.figure(figsize=(6,4.5))\n",
    "\n",
    "kwargs = {\"units\":\"Sv\", \"alpha\":0.7, \"lw\":1.5}\n",
    "\n",
    "stairs(-wmt_mean, 'mass_tendency',             label=r\"$\\partial_{t} \\mathcal{M}_{\\geq}$\",**kwargs)\n",
    "stairs( wmt_mean, 'mass_source',               label=r\"$\\mathcal{S}_{\\geq}$\",            **kwargs)\n",
    "stairs( wmt_mean, 'boundary_fluxes',           label=r\"$\\mathcal{G}^{(BF)}$\",      **kwargs)\n",
    "stairs( wmt_mean, 'diffusion',                 label=r\"$\\mathcal{G}^{(Mix)}$\",     **kwargs)\n",
    "stairs( wmt_mean, 'spurious_numerical_mixing', label=r\"$\\mathcal{G}^{(Spu)}$\", **kwargs)\n",
    "\n",
    "plt.legend(loc=\"upper right\")\n",
    "plt.grid(True, alpha=0.25)\n",
    "plt.ylabel(r\"potential density $\\sigma_{2}$ [kg/m$^{3}$]\");\n",
    "plt.ylim(37.5, 34.);"
   ]
  },
  {
   "cell_type": "code",
   "execution_count": null,
   "id": "d3d14552-3323-44ff-9919-5e6c63d61a33",
   "metadata": {},
   "outputs": [],
   "source": []
  }
 ],
 "metadata": {
  "kernelspec": {
   "display_name": "Python 3 (ipykernel)",
   "language": "python",
   "name": "python3"
  },
  "language_info": {
   "codemirror_mode": {
    "name": "ipython",
    "version": 3
   },
   "file_extension": ".py",
   "mimetype": "text/x-python",
   "name": "python",
   "nbconvert_exporter": "python",
   "pygments_lexer": "ipython3",
   "version": "3.12.3"
  }
 },
 "nbformat": 4,
 "nbformat_minor": 5
}
